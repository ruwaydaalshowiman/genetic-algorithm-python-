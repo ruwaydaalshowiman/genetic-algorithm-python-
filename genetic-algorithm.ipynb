{
 "cells": [
  {
   "cell_type": "code",
   "execution_count": 55,
   "metadata": {},
   "outputs": [],
   "source": [
    "\n",
    "import pandas as pd\n",
    "\n",
    "df = pd.read_excel ('/Users/ruwayda/Desktop/DataSetAI.xlsx')\n",
    "\n",
    "\n",
    "dfTOP =  df[df['CATEGORY '] == 'Top']\n",
    "listTOP = dfTOP.values.tolist()\n",
    "\n",
    "dfBottom =  df[df['CATEGORY '] == 'BOTTOM ']\n",
    "listBottom = dfBottom.values.tolist()\n",
    "\n",
    "dfSHOES =  df[df['CATEGORY '] == 'SHOES ']\n",
    "listSHOES = dfSHOES.values.tolist()\n",
    "\n",
    "dfNECK =  df[df['CATEGORY '] == 'NECK']\n",
    "listNECK = dfNECK.values.tolist()\n",
    "\n",
    "dfHANDBAG =  df[df['CATEGORY '] == 'HANDBAG']\n",
    "listHANDBAG = dfHANDBAG.values.tolist()\n",
    "\n"
   ]
  },
  {
   "cell_type": "code",
   "execution_count": 56,
   "metadata": {},
   "outputs": [
    {
     "name": "stdout",
     "output_type": "stream",
     "text": [
      "Enter the price 1000\n"
     ]
    }
   ],
   "source": [
    "priceIN = input(\"Enter the price \");\n",
    "priceIN=int(priceIN)\n"
   ]
  },
  {
   "cell_type": "code",
   "execution_count": 57,
   "metadata": {},
   "outputs": [
    {
     "name": "stdout",
     "output_type": "stream",
     "text": [
      "Enter the DRESS CODE casual ,sportswear ,Business and evening sportswear\n"
     ]
    }
   ],
   "source": [
    "Dcode = input(\"Enter the DRESS CODE casual ,sportswear ,Business and evening \");"
   ]
  },
  {
   "cell_type": "code",
   "execution_count": 58,
   "metadata": {},
   "outputs": [
    {
     "name": "stdout",
     "output_type": "stream",
     "text": [
      "Enter the Color (bright) or (dark)bright\n"
     ]
    }
   ],
   "source": [
    "color = input(\"Enter the Color (bright) or (dark)\");"
   ]
  },
  {
   "cell_type": "code",
   "execution_count": 142,
   "metadata": {},
   "outputs": [],
   "source": [
    "# popularion generated \n",
    "\n",
    "import random \n",
    "\n",
    "population = []\n",
    "POPULATION_SIZE = 30\n",
    "\n",
    "def createcrom(listTOP,listBottom,listSHOES,listNECK,listHANDBAG):\n",
    "    crom=[]\n",
    "    crom.append(random.sample(listTOP, 1))\n",
    "    crom.append(random.sample(listBottom, 1))\n",
    "    crom.append(random.sample(listSHOES, 1))\n",
    "    crom.append(random.sample(listNECK, 1))\n",
    "    crom.append(random.sample(listHANDBAG, 1))\n",
    "\n",
    "    \n",
    "    return crom\n",
    "\n",
    "for i in range(0, POPULATION_SIZE):\n",
    "    population.append(createcrom(listTOP,listBottom,listSHOES,listNECK,listHANDBAG))\n",
    "\n",
    "populationD = pd.DataFrame(population) "
   ]
  },
  {
   "cell_type": "code",
   "execution_count": 143,
   "metadata": {},
   "outputs": [],
   "source": [
    "#Roulette wheel selection\n",
    "import random\n",
    "def Roulette (fitnessArray , populationD ,POPULATION_SIZE):\n",
    "    sum2=0 \n",
    "    sumfit = sum(fitnessArray)\n",
    "    rand= random.uniform(0,sumfit)\n",
    "    i=0\n",
    "    for i in range (0,POPULATION_SIZE ) :\n",
    "        sum2 = sum2+ (fitnessArray[i])\n",
    "        if rand < sum2 :\n",
    "            return populationD.iloc[i]\n"
   ]
  },
  {
   "cell_type": "code",
   "execution_count": 144,
   "metadata": {},
   "outputs": [],
   "source": [
    "def fitness(populationD, POPULATION_SIZE,color ,Dcode , priceIN ): \n",
    "    fitnessArray=[]; \n",
    "    \n",
    "    for i in range (0,POPULATION_SIZE):\n",
    "        color_count = 0;\n",
    "        Dress_count = 0 ; \n",
    "        price = 0.0 ;\n",
    "        for j in range (0,5):\n",
    "            gen = populationD[j].iloc[i]\n",
    "            Gcolor = gen[0][2]\n",
    "            GDcode= gen[0][3]\n",
    "            price=price+ gen[0][4]\n",
    "            if Gcolor == color :\n",
    "                color_count= color_count+1.0\n",
    "          \n",
    "            if GDcode == Dcode :\n",
    "                Dress_count=Dress_count+1.0 \n",
    "        if  price <=priceIN :\n",
    "            total_price = (priceIN - price ) /priceIN\n",
    "        else:\n",
    "            total_price =0\n",
    "        color_count= color_count/5\n",
    "        Dress_count = Dress_count/5\n",
    "     \n",
    "        fitness = (0.4*total_price)+(0.4*Dress_count)+(0.2*color_count)\n",
    "        fitnessArray.append( fitness)\n",
    "    return fitnessArray\n",
    "        "
   ]
  },
  {
   "cell_type": "code",
   "execution_count": 145,
   "metadata": {},
   "outputs": [],
   "source": [
    "#crosover\n",
    "import numpy as np\n",
    "import random\n",
    "def crosover (c1 , c2):\n",
    "    new1 = c1 \n",
    "    new2 = c2 \n",
    "    \n",
    "    # 5 is length of one cromosom\n",
    "       \n",
    "    \n",
    "    randc= random.randint(1,4)\n",
    "\n",
    "    new1= pd.concat([c1[0:randc],c2[randc:5]])\n",
    "    new2=pd.concat([c2[0:randc] ,c1[randc:5]])\n",
    "\n",
    "\n",
    "    return new1 , new2\n",
    "\n",
    "    "
   ]
  },
  {
   "cell_type": "code",
   "execution_count": 146,
   "metadata": {},
   "outputs": [],
   "source": [
    "def mutate(crom):\n",
    "    crom1=crom\n",
    "    \n",
    "    index=-1\n",
    "    global swapWith\n",
    "\n",
    "    i= random.randint(0,4)\n",
    "            \n",
    "    if(i==0):\n",
    "        swapWith = random.sample(listTOP, 1)\n",
    "        index=i\n",
    "            \n",
    "    if(i==1):\n",
    "        swapWith = random.sample(listBottom, 1)\n",
    "        index=i\n",
    "            \n",
    "    if(i==2):\n",
    "        swapWith = random.sample(listSHOES, 1)\n",
    "        index=i\n",
    "            \n",
    "    if(i==3):\n",
    "        swapWith = random.sample(listNECK, 1)\n",
    "        index=i\n",
    "            \n",
    "    if(i==4):\n",
    "        swapWith = random.sample(listHANDBAG, 1)\n",
    "        index=i\n",
    "\n",
    "    if (index != -1):\n",
    "        crom1[index]=swapWith\n",
    "    \n",
    "    return crom1\n"
   ]
  },
  {
   "cell_type": "code",
   "execution_count": 147,
   "metadata": {},
   "outputs": [],
   "source": [
    "# main function \n",
    "\n",
    "crosoverRate= 0.99\n",
    "mutationRate= 0.001\n",
    "generation=0\n",
    "plotDF =[]\n",
    "plotDF = pd.DataFrame(plotDF)\n",
    "listOfGen=[]\n",
    "listOfeve=[]\n",
    "bestOutFit=[]\n",
    "FittnessOutFit=0\n",
    "\n",
    "#      Fitness for random population\n",
    "fitness1 = fitness(populationD, POPULATION_SIZE,color ,Dcode , priceIN )\n",
    "\n",
    "#      Set generation as 1000 \n",
    "while (generation<1000): \n",
    "    \n",
    "    new_population =[]\n",
    "    new_population = pd.DataFrame(new_population)\n",
    "    NewFitness=[]\n",
    "    \n",
    "    i=0\n",
    "   \n",
    "# crosover calling  \n",
    "    for i in range (0,int(POPULATION_SIZE/2)):\n",
    "        \n",
    "        #      Roulette selection for select the parents \n",
    "        parent1 = Roulette(fitness1,populationD ,POPULATION_SIZE) \n",
    "        parent2 = Roulette(fitness1,populationD ,POPULATION_SIZE)\n",
    "        \n",
    "        #      Crossover part  \n",
    "        if(random.random() < crosoverRate):\n",
    "            parent1,parent2 = crosover(parent1,parent2)\n",
    "            \n",
    "        #      assign new chromosome to new population   \n",
    "        new_population =new_population.append(parent1, ignore_index=True )\n",
    "        new_population =new_population.append(parent2, ignore_index=True )\n",
    "    \n",
    "   #     mutattion\n",
    "    for j in range (0,POPULATION_SIZE): \n",
    "        if(random.random() < mutationRate):\n",
    "            new_population.iloc[j] = mutate(new_population.iloc[j])\n",
    "            \n",
    "    #     New Fitness for new population\n",
    "    NewFitness = fitness(new_population, POPULATION_SIZE , color ,Dcode , priceIN )\n",
    "    \n",
    "    #     Finding the max fitness for the best outfit \n",
    "    MaxFitness= np.amax(NewFitness)\n",
    "    #     Finding index max fitness for the best outfit in the new population\n",
    "    index = NewFitness.index(MaxFitness)\n",
    "    \n",
    "    if FittnessOutFit < MaxFitness :\n",
    "        bestOutFit = new_population.iloc[index]\n",
    "        FittnessOutFit = MaxFitness\n",
    "    \n",
    "    #     Calculate the average Fitness for each generation \n",
    "    ave = (sum(NewFitness))/POPULATION_SIZE\n",
    "    \n",
    "    #     increment the number of generation \n",
    "    generation = generation + 1;\n",
    "    \n",
    "    #     assign all generation with its average to dataframe  \n",
    "    listOfGeneration.append(generation)\n",
    "    listOfaverage.append(ave)\n",
    "    data = [[generation,ave]]\n",
    "    populationD = new_population\n",
    "    fitness1 = NewFitness\n",
    "plotDF = pd.DataFrame({\"generation\":listOfGeneration, \n",
    "                    \"Avrage\":listOfaverage})\n"
   ]
  },
  {
   "cell_type": "code",
   "execution_count": 148,
   "metadata": {
    "scrolled": false
   },
   "outputs": [
    {
     "name": "stdout",
     "output_type": "stream",
     "text": [
      "Fitness of the best outfit :\n",
      "0.6800000000000002\n",
      "-------\n",
      "best outfit :\n"
     ]
    },
    {
     "data": {
      "text/html": [
       "<div>\n",
       "<style scoped>\n",
       "    .dataframe tbody tr th:only-of-type {\n",
       "        vertical-align: middle;\n",
       "    }\n",
       "\n",
       "    .dataframe tbody tr th {\n",
       "        vertical-align: top;\n",
       "    }\n",
       "\n",
       "    .dataframe thead th {\n",
       "        text-align: right;\n",
       "    }\n",
       "</style>\n",
       "<table border=\"1\" class=\"dataframe\">\n",
       "  <thead>\n",
       "    <tr style=\"text-align: right;\">\n",
       "      <th></th>\n",
       "      <th>16</th>\n",
       "    </tr>\n",
       "  </thead>\n",
       "  <tbody>\n",
       "    <tr>\n",
       "      <th>0</th>\n",
       "      <td>[[Top, t-shirt, bright, sportswear, 0]]</td>\n",
       "    </tr>\n",
       "    <tr>\n",
       "      <th>1</th>\n",
       "      <td>[[BOTTOM , sweatpants, bright, casual, 100]]</td>\n",
       "    </tr>\n",
       "    <tr>\n",
       "      <th>2</th>\n",
       "      <td>[[SHOES , flat, bright, casual, 0]]</td>\n",
       "    </tr>\n",
       "    <tr>\n",
       "      <th>3</th>\n",
       "      <td>[[NECK, choker, bright, casual, 0]]</td>\n",
       "    </tr>\n",
       "    <tr>\n",
       "      <th>4</th>\n",
       "      <td>[[HANDBAG, backpack, bright, sportswear, 100]]</td>\n",
       "    </tr>\n",
       "  </tbody>\n",
       "</table>\n",
       "</div>"
      ],
      "text/plain": [
       "                                               16\n",
       "0  [[Top, t-shirt, bright, sportswear, 0]]       \n",
       "1  [[BOTTOM , sweatpants, bright, casual, 100]]  \n",
       "2  [[SHOES , flat, bright, casual, 0]]           \n",
       "3  [[NECK, choker, bright, casual, 0]]           \n",
       "4  [[HANDBAG, backpack, bright, sportswear, 100]]"
      ]
     },
     "execution_count": 148,
     "metadata": {},
     "output_type": "execute_result"
    },
    {
     "data": {
      "image/png": "[encoded data removed]",
      "text/plain": [
       "<Figure size 1440x576 with 1 Axes>"
      ]
     },
     "metadata": {
      "needs_background": "light"
     },
     "output_type": "display_data"
    }
   ],
   "source": [
    "import matplotlib.pyplot as plt\n",
    "\n",
    "fig_size = plt.rcParams[\"figure.figsize\"]\n",
    "fig_size[0] = 20\n",
    "fig_size[1] = 8\n",
    "plt.rcParams[\"figure.figsize\"] = fig_size\n",
    "\n",
    "plt.xlabel(\"Number of Generation\")\n",
    "plt.ylabel(\"Fitness Avrage\")\n",
    "plt.title(\"Population size =30 , mutation rate = 0.001 , crossover rate = 0.99\")\n",
    "plt.plot( 'generation', 'Avrage', data=plotDF, color='blue', linewidth=2 )\n",
    "\n",
    "bestOutFit = pd.DataFrame(bestOutFit) \n",
    "pd.set_option('display.max_colwidth', -1)\n",
    "print(\"Fitness of the best outfit :\")\n",
    "print(FittnessOutFit)\n",
    "print(\"-------\")\n",
    "print(\"best outfit :\")\n",
    "bestOutFit"
   ]
  }
 ],
 "metadata": {
  "kernelspec": {
   "display_name": "Python 3",
   "language": "python",
   "name": "python3"
  },
  "language_info": {
   "codemirror_mode": {
    "name": "ipython",
    "version": 3
   },
   "file_extension": ".py",
   "mimetype": "text/x-python",
   "name": "python",
   "nbconvert_exporter": "python",
   "pygments_lexer": "ipython3",
   "version": "3.7.1"
  }
 },
 "nbformat": 4,
 "nbformat_minor": 2
}
